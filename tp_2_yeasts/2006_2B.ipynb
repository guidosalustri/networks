{
 "cells": [
  {
   "cell_type": "code",
   "execution_count": 6,
   "metadata": {},
   "outputs": [],
   "source": [
    "%matplotlib inline\n",
    "import networkx as nx\n",
    "import matplotlib.pyplot as plt\n",
    "import pandas as pd\n",
    "import numpy as np\n",
    "from tqdm import tqdm_notebook as tqdm\n",
    "import random"
   ]
  },
  {
   "cell_type": "code",
   "execution_count": 7,
   "metadata": {},
   "outputs": [],
   "source": [
    "AP_MS = nx.read_gml(\"AP_MS.gml\")\n",
    "Y2H = nx.read_gml(\"Y2H.gml\")\n",
    "LIT = nx.read_gml(\"LIT.gml\")\n",
    "LITR = nx.read_gml(\"LIT.gml\")"
   ]
  },
  {
   "cell_type": "markdown",
   "metadata": {
    "collapsed": true
   },
   "source": [
    "Figura 2.b de He et. al. (2006) - Para cada una de las redes obtener α y β.\n",
    "\n"
   ]
  },
  {
   "cell_type": "markdown",
   "metadata": {},
   "source": [
    "# Calculo alpha\n",
    "\n",
    "ins forming anessential PPI must be essential (Figure 1A). On the contrary,\n",
    "interactions between essential proteins (IBEPs) may or may not be essential.\n",
    "\n",
    "We generated a control network by randomly rewiring all edges of the real network while keeping the node connectivity (k)\n",
    "unchanged for every node. By repeating this procedure 10,000 times we obtained the distribution of the number (m) of IBEPs in randomly rewired networks (Figure 1B). "
   ]
  },
  {
   "cell_type": "markdown",
   "metadata": {},
   "source": [
    "## Recablear artistas y volver a ver calcular IBEPs"
   ]
  },
  {
   "cell_type": "code",
   "execution_count": 8,
   "metadata": {
    "scrolled": true
   },
   "outputs": [
    {
     "data": {
      "application/vnd.jupyter.widget-view+json": {
       "model_id": "6d40c5dfa57542f591b30b8cae4b9465",
       "version_major": 2,
       "version_minor": 0
      },
      "text/plain": [
       "HBox(children=(IntProgress(value=0), HTML(value='')))"
      ]
     },
     "metadata": {},
     "output_type": "display_data"
    }
   ],
   "source": [
    "raw_m = 0\n",
    "for n1,n2 in AP_MS.edges():\n",
    "        if  AP_MS.node[n1][\"esencial\"] and AP_MS.node[n2][\"esencial\"]:\n",
    "            raw_m += 1\n",
    "ms = []\n",
    "for _ in tqdm(range(100)):\n",
    "    G = AP_MS.copy()\n",
    "    G = nx.double_edge_swap(G,nswap=5000,max_tries=100000)\n",
    "    m = 0\n",
    "    for n1,n2 in G.edges():\n",
    "        if  G.node[n1][\"esencial\"] and G.node[n2][\"esencial\"]:\n",
    "            m += 1\n",
    "    ms.append(m)\n",
    "mean_m = np.mean(ms)\n",
    "std_m = np.std(ms)    "
   ]
  },
  {
   "cell_type": "code",
   "execution_count": 11,
   "metadata": {},
   "outputs": [
    {
     "name": "stdout",
     "output_type": "stream",
     "text": [
      "[2290.47, 22.753661243852605]\n",
      "2847\n"
     ]
    }
   ],
   "source": [
    "print([mean_m,std_m])\n",
    "print (raw_m   )"
   ]
  },
  {
   "cell_type": "markdown",
   "metadata": {
    "collapsed": true
   },
   "source": [
    "The mean of m is 592.6. None of the 10,000 m values is greater than the number of IBEPs in the real network, strongly suggesting an excess of IBEPs in the real network (p , 0.0001). \n"
   ]
  },
  {
   "cell_type": "markdown",
   "metadata": {},
   "source": [
    "## Ver relacion de IBEPs calculadas vs la observada"
   ]
  },
  {
   "cell_type": "code",
   "execution_count": 13,
   "metadata": {},
   "outputs": [
    {
     "data": {
      "image/png": "[encoded data removed]",
      "text/plain": [
       "<Figure size 432x288 with 1 Axes>"
      ]
     },
     "metadata": {},
     "output_type": "display_data"
    }
   ],
   "source": [
    "plt.hist(ms,label=\"Simulaciones\")\n",
    "plt.xlabel(\"IBEPs\")\n",
    "plt.ylabel(\"% frequency\")\n",
    "plt.title(\"Histograma de IBEPs simuladas\")\n",
    "plt.axvline(x=raw_m, color='red', linestyle='--',label=\"Observada\")\n",
    "plt.legend()\n",
    "plt.show()"
   ]
  },
  {
   "cell_type": "markdown",
   "metadata": {
    "collapsed": true
   },
   "source": [
    "This excess is also evident in different datasets of yeast PPIs and in nematode PPIs  (see below and Figures S1 and S2). \n",
    "Under the assumption that the excess of IBEPs is entirely caused by essential PPIs, \n",
    "we estimate that a aplha = (807–592.6)/7356 \n",
    "alpha = 2.92% of interactions in the yeast PPI network are essential. The standard error of a is 0.23%."
   ]
  },
  {
   "cell_type": "code",
   "execution_count": 14,
   "metadata": {},
   "outputs": [
    {
     "name": "stdout",
     "output_type": "stream",
     "text": [
      "alpha 0.061359 -> 6.14 %\n"
     ]
    }
   ],
   "source": [
    "alpha = (raw_m - mean_m) / len(AP_MS.edges())\n",
    "print( \"alpha %f -> %.2f \" % ( alpha, alpha * 100 ) + \"%\")"
   ]
  },
  {
   "cell_type": "markdown",
   "metadata": {
    "collapsed": true
   },
   "source": [
    "The standard error of a is 0.23% ????????????''"
   ]
  },
  {
   "cell_type": "markdown",
   "metadata": {
    "collapsed": true
   },
   "source": [
    "# Calculo Beta"
   ]
  },
  {
   "cell_type": "markdown",
   "metadata": {},
   "source": [
    "In addition to essential PPIs, there are other factors (e.g., protein-DNA interaction) that could render a protein\n",
    "essential. Let b be the probability that a node becomes essential by these other factors. To estimate b, we first remove\n",
    "the information of gene essentiality in the yeast PPI network. e then randomly assign 807-m essential edges to this\n",
    "network, where m is randomly drawn from its distribution n Figure 1B. Note that 807-m is the estimated number of\n",
    "essential edges. Nodes having essential edges are marked ssential. Next, we mimic the influence of the other factors\n",
    "that cause gene essentiality by randomly marking nodes as ssential, until the total number of essential nodes in the\n",
    "network becomes 836. Repeating this procedure 10,000 times"
   ]
  },
  {
   "cell_type": "code",
   "execution_count": 15,
   "metadata": {},
   "outputs": [
    {
     "data": {
      "text/plain": [
       "607"
      ]
     },
     "execution_count": 15,
     "metadata": {},
     "output_type": "execute_result"
    }
   ],
   "source": [
    "n_esenciales = len([x for x,data in AP_MS.nodes(data=True) if data[\"esencial\"] ])\n",
    "n_esenciales"
   ]
  },
  {
   "cell_type": "code",
   "execution_count": 30,
   "metadata": {},
   "outputs": [
    {
     "data": {
      "application/vnd.jupyter.widget-view+json": {
       "model_id": "5c4692568795471ebd4464dd2363d11f",
       "version_major": 2,
       "version_minor": 0
      },
      "text/plain": [
       "HBox(children=(IntProgress(value=0), HTML(value='')))"
      ]
     },
     "metadata": {},
     "output_type": "display_data"
    },
    {
     "ename": "ValueError",
     "evalue": "Sample larger than population or is negative",
     "output_type": "error",
     "traceback": [
      "\u001b[1;31m---------------------------------------------------------------------------\u001b[0m",
      "\u001b[1;31mValueError\u001b[0m                                Traceback (most recent call last)",
      "\u001b[1;32m<ipython-input-30-2b7d4c85d12b>\u001b[0m in \u001b[0;36m<module>\u001b[1;34m()\u001b[0m\n\u001b[0;32m     17\u001b[0m     \u001b[0mfaltantes\u001b[0m \u001b[1;33m=\u001b[0m \u001b[0mn_esenciales\u001b[0m \u001b[1;33m-\u001b[0m \u001b[0mlen\u001b[0m\u001b[1;33m(\u001b[0m\u001b[0mnodos_esenciales\u001b[0m\u001b[1;33m)\u001b[0m\u001b[1;33m\u001b[0m\u001b[0m\n\u001b[0;32m     18\u001b[0m     \u001b[0me_por_pii\u001b[0m\u001b[1;33m.\u001b[0m\u001b[0mappend\u001b[0m\u001b[1;33m(\u001b[0m\u001b[0mlen\u001b[0m\u001b[1;33m(\u001b[0m\u001b[0mnodos_esenciales\u001b[0m\u001b[1;33m)\u001b[0m \u001b[1;33m)\u001b[0m\u001b[1;33m\u001b[0m\u001b[0m\n\u001b[1;32m---> 19\u001b[1;33m     \u001b[0moverlap\u001b[0m \u001b[1;33m=\u001b[0m \u001b[0mlen\u001b[0m\u001b[1;33m(\u001b[0m\u001b[0mset\u001b[0m\u001b[1;33m(\u001b[0m\u001b[0mrandom\u001b[0m\u001b[1;33m.\u001b[0m\u001b[0msample\u001b[0m\u001b[1;33m(\u001b[0m\u001b[0mG\u001b[0m\u001b[1;33m.\u001b[0m\u001b[0mnodes\u001b[0m\u001b[1;33m(\u001b[0m\u001b[1;33m)\u001b[0m\u001b[1;33m,\u001b[0m \u001b[0mfaltantes\u001b[0m \u001b[1;33m)\u001b[0m \u001b[1;33m)\u001b[0m \u001b[1;33m&\u001b[0m \u001b[0mnodos_esenciales\u001b[0m\u001b[1;33m)\u001b[0m\u001b[1;33m\u001b[0m\u001b[0m\n\u001b[0m\u001b[0;32m     20\u001b[0m     \u001b[0moverlaps\u001b[0m\u001b[1;33m.\u001b[0m\u001b[0mappend\u001b[0m\u001b[1;33m(\u001b[0m\u001b[0moverlap\u001b[0m\u001b[1;33m)\u001b[0m\u001b[1;33m\u001b[0m\u001b[0m\n\u001b[0;32m     21\u001b[0m     \u001b[0magregados\u001b[0m \u001b[1;33m=\u001b[0m \u001b[0mset\u001b[0m\u001b[1;33m(\u001b[0m\u001b[0mrandom\u001b[0m\u001b[1;33m.\u001b[0m\u001b[0msample\u001b[0m\u001b[1;33m(\u001b[0m\u001b[0mG\u001b[0m\u001b[1;33m.\u001b[0m\u001b[0mnodes\u001b[0m\u001b[1;33m(\u001b[0m\u001b[1;33m)\u001b[0m\u001b[1;33m,\u001b[0m \u001b[0mfaltantes\u001b[0m \u001b[1;33m)\u001b[0m \u001b[1;33m)\u001b[0m \u001b[1;33m-\u001b[0m \u001b[0mnodos_esenciales\u001b[0m\u001b[1;33m\u001b[0m\u001b[0m\n",
      "\u001b[1;32m~\\Anaconda3\\lib\\random.py\u001b[0m in \u001b[0;36msample\u001b[1;34m(self, population, k)\u001b[0m\n\u001b[0;32m    318\u001b[0m         \u001b[0mn\u001b[0m \u001b[1;33m=\u001b[0m \u001b[0mlen\u001b[0m\u001b[1;33m(\u001b[0m\u001b[0mpopulation\u001b[0m\u001b[1;33m)\u001b[0m\u001b[1;33m\u001b[0m\u001b[0m\n\u001b[0;32m    319\u001b[0m         \u001b[1;32mif\u001b[0m \u001b[1;32mnot\u001b[0m \u001b[1;36m0\u001b[0m \u001b[1;33m<=\u001b[0m \u001b[0mk\u001b[0m \u001b[1;33m<=\u001b[0m \u001b[0mn\u001b[0m\u001b[1;33m:\u001b[0m\u001b[1;33m\u001b[0m\u001b[0m\n\u001b[1;32m--> 320\u001b[1;33m             \u001b[1;32mraise\u001b[0m \u001b[0mValueError\u001b[0m\u001b[1;33m(\u001b[0m\u001b[1;34m\"Sample larger than population or is negative\"\u001b[0m\u001b[1;33m)\u001b[0m\u001b[1;33m\u001b[0m\u001b[0m\n\u001b[0m\u001b[0;32m    321\u001b[0m         \u001b[0mresult\u001b[0m \u001b[1;33m=\u001b[0m \u001b[1;33m[\u001b[0m\u001b[1;32mNone\u001b[0m\u001b[1;33m]\u001b[0m \u001b[1;33m*\u001b[0m \u001b[0mk\u001b[0m\u001b[1;33m\u001b[0m\u001b[0m\n\u001b[0;32m    322\u001b[0m         \u001b[0msetsize\u001b[0m \u001b[1;33m=\u001b[0m \u001b[1;36m21\u001b[0m        \u001b[1;31m# size of a small set minus size of an empty list\u001b[0m\u001b[1;33m\u001b[0m\u001b[0m\n",
      "\u001b[1;31mValueError\u001b[0m: Sample larger than population or is negative"
     ]
    }
   ],
   "source": [
    "bs = []\n",
    "overlaps = []\n",
    "e_por_pii   = []\n",
    "for _ in tqdm(range(100)):\n",
    "    G = AP_MS.copy()\n",
    "    # Cantidad de interacciones esenciales\n",
    "    m =  random.choice(ms)\n",
    "    EPII = raw_m - m\n",
    "    # Asignar edges esenciales al azar y marcar nodos esenciales por estar en EPII\n",
    "    nodos_esenciales = []\n",
    "    for n1,n2 in random.sample(G.edges(),EPII):\n",
    "        nodos_esenciales.append(n1)\n",
    "        nodos_esenciales.append(n2)\n",
    "    nodos_esenciales = set(nodos_esenciales)\n",
    "    \n",
    "    # Agregar nodos esenciales al azar hasta completar\n",
    "    faltantes = n_esenciales - len(nodos_esenciales)\n",
    "    e_por_pii.append(len(nodos_esenciales) )\n",
    "    overlap = len(set(random.sample(G.nodes(), faltantes ) ) & nodos_esenciales)\n",
    "    overlaps.append(overlap)\n",
    "    agregados = set(random.sample(G.nodes(), faltantes ) ) - nodos_esenciales\n",
    "    bs.append(len(agregados))\n",
    "    \n",
    "    \n",
    "mean_b = np.mean(bs)\n",
    "std_b = np.std(bs)\n",
    "mean_o = np.mean(overlaps)\n",
    "std_o = np.std(overlaps)\n",
    "mean_pii = np.mean(e_por_pii)\n",
    "std_pii = np.std(e_por_pii)\n",
    "\n",
    "\n"
   ]
  },
  {
   "cell_type": "code",
   "execution_count": 17,
   "metadata": {},
   "outputs": [
    {
     "name": "stdout",
     "output_type": "stream",
     "text": [
      "[21.0, 13.375350462698165]\n"
     ]
    }
   ],
   "source": [
    "print ([mean_b,std_b])"
   ]
  },
  {
   "cell_type": "code",
   "execution_count": 18,
   "metadata": {},
   "outputs": [
    {
     "data": {
      "image/png": "[encoded data removed]",
      "text/plain": [
       "<Figure size 432x288 with 1 Axes>"
      ]
     },
     "metadata": {},
     "output_type": "display_data"
    }
   ],
   "source": [
    "plt.hist(bs)\n",
    "plt.show()"
   ]
  },
  {
   "cell_type": "markdown",
   "metadata": {},
   "source": [
    "We estimate that the essential PPIs render 8.7% of nodes\n",
    "essential, while the other factors render b 1⁄4 12.64% of nodes ssential. The standard error of b is 0.63%. Note that some nodes (1.1%) are affected by both essential PPIs and the other factors. Approximately 43% (8.7%/20.3%) of protein essentiality is attributable to essential interactions in the PPI network."
   ]
  },
  {
   "cell_type": "code",
   "execution_count": 19,
   "metadata": {},
   "outputs": [
    {
     "name": "stdout",
     "output_type": "stream",
     "text": [
      "beta 0.01 - overlap: 0.01 - pii: 0.35\n"
     ]
    }
   ],
   "source": [
    "print(\"beta %.2f - overlap: %.2f - pii: %.2f\" % (\n",
    "    (mean_b / len(AP_MS.nodes())  ), \n",
    "    (mean_o * 1.0 / len(AP_MS.nodes())),\n",
    "    (mean_pii * 1.0 / len(AP_MS.nodes()))\n",
    "     )  )"
   ]
  },
  {
   "cell_type": "markdown",
   "metadata": {},
   "source": [
    "The final and most critical evaluation of our estimates of a and b is to\n",
    "test whether protein essentiality can be predicted using these\n",
    "estimates. For a protein to be nonessential, two conditions\n",
    "must be satisfied. First, the protein has no essential PPI.\n",
    "Second, the protein is not affected by the other factors that\n",
    "cause essentiality. Thus, the probability (P E ) that a protein\n",
    "with k PPIs is essential is:\n",
    "\n",
    "Pe = 1 -( 1 - b)(1 - alpha)^k  \n",
    "\n",
    "where a and b have been estimated earlier. Thus, Pe values\n",
    "can be predicted for each k using the above equation. Our observed P E from the yeast PPI network matched well to the predicted Pe\n",
    "\n",
    "ln(1 - Pe ) = k ln(1 - alpha) + ln(1 - beta) "
   ]
  },
  {
   "cell_type": "code",
   "execution_count": 20,
   "metadata": {},
   "outputs": [
    {
     "data": {
      "image/png": "[encoded data removed]",
      "text/plain": [
       "<Figure size 432x288 with 1 Axes>"
      ]
     },
     "metadata": {},
     "output_type": "display_data"
    }
   ],
   "source": [
    "data = []\n",
    "\n",
    "observed = []\n",
    "max_k = max([x[1] for x in AP_MS.degree()])\n",
    "beta = mean_b / len(AP_MS.nodes())\n",
    "for k in range(1,max_k):\n",
    "    data.append( 1 - (1 - beta) * (1 - alpha) ** k )\n",
    "    nodos_de_grado_k = [x[0] for x in AP_MS.degree() if x[1] == k] \n",
    "    nodos_de_grado_k_esenciales = [x for x in nodos_de_grado_k if  AP_MS.node[x][\"esencial\"]]\n",
    "    \n",
    "    if nodos_de_grado_k:\n",
    "        observed.append( len(nodos_de_grado_k_esenciales) /   len(nodos_de_grado_k) )\n",
    "    else:\n",
    "        observed.append(0)\n",
    "    \n",
    "plt.plot(range(1,max_k), data )\n",
    "plt.scatter(range(1,max_k),observed,marker=\"x\",c=\"red\")\n",
    "plt.xlim(0,130)\n",
    "plt.show()"
   ]
  },
  {
   "cell_type": "code",
   "execution_count": 21,
   "metadata": {},
   "outputs": [
    {
     "name": "stdout",
     "output_type": "stream",
     "text": [
      "[-0.022956223359087397, -0.376252088821062]\n"
     ]
    },
    {
     "data": {
      "image/png": "[encoded data removed]",
      "text/plain": [
       "<Figure size 432x288 with 1 Axes>"
      ]
     },
     "metadata": {},
     "output_type": "display_data"
    }
   ],
   "source": [
    "#ln(1 - Pe ) = k ln(1 - alpha) + ln(1 - beta) \n",
    "observed = []\n",
    "for k in range(1,32):  # con mas  np.log(1 - pe ) da infinito\n",
    "    nodos_de_grado_k = [x[0] for x in AP_MS.degree() if x[1] == k] \n",
    "    if nodos_de_grado_k:\n",
    "        nodos_de_grado_k_esenciales = [x for x in nodos_de_grado_k if  AP_MS.node[x][\"esencial\"]]\n",
    "        pe = len(nodos_de_grado_k_esenciales) /   len(nodos_de_grado_k)\n",
    "        observed.append( [k,np.log(1 - pe )] )\n",
    "#     else:\n",
    "#         observed.append(0)\n",
    "\n",
    "from scipy import stats\n",
    "slope, intercept, r_value, p_value, std_err = stats.linregress([x[0] for x in observed],[x[1] for x in observed])\n",
    "print([slope, intercept])\n",
    "rect = []\n",
    "for x in [x[0] for x in observed]:\n",
    "    rect.append( intercept + slope * x)\n",
    "\n",
    "plt.plot([x[0] for x in observed],rect)\n",
    "plt.scatter([x[0] for x in observed],[x[1] for x in observed],marker=\"x\")\n",
    "\n",
    "plt.show()"
   ]
  },
  {
   "cell_type": "code",
   "execution_count": 22,
   "metadata": {},
   "outputs": [
    {
     "name": "stdout",
     "output_type": "stream",
     "text": [
      "[0.022694734021469598, 0.313570729915839]\n"
     ]
    }
   ],
   "source": [
    "#ln(1 - Pe ) = k ln(1 - alpha) + ln(1 - beta) \n",
    "alpha_ajustado = 1 - np.exp(slope  )  \n",
    "beta_ajustado = 1 - np.exp(intercept  )  \n",
    "print([alpha_ajustado,beta_ajustado])\n"
   ]
  },
  {
   "cell_type": "code",
   "execution_count": 23,
   "metadata": {},
   "outputs": [],
   "source": [
    "def alpha_red(graph,nswap=1000,repes=10000,name=\"?\"):\n",
    "    ibeps = 0\n",
    "    for n1,n2 in graph.edges():\n",
    "            if  graph.node[n1][\"esencial\"] and graph.node[n2][\"esencial\"]:\n",
    "                ibeps += 1\n",
    "    ms = []\n",
    "    for _ in tqdm(range(repes)):\n",
    "        G = graph.copy()\n",
    "        G = nx.double_edge_swap(G,nswap=nswap,max_tries=100000)\n",
    "        m = 0\n",
    "        for n1,n2 in G.edges():\n",
    "            if  G.node[n1][\"esencial\"] and G.node[n2][\"esencial\"]:\n",
    "                m += 1\n",
    "        ms.append(m)\n",
    "    mean_m = np.mean(ms)\n",
    "    std_m = np.std(ms)\n",
    "    \n",
    "   \n",
    "    \n",
    "    plt.hist(ms,label=\"Simulaciones\")\n",
    "    plt.xlabel(\"IBEPs\")\n",
    "    plt.ylabel(\"% frequency\")\n",
    "    plt.title(\"Histograma de IBEPs simuladas en \" + name)\n",
    "    plt.axvline(x=ibeps, color='red', linestyle='--',label=\"Observada\")\n",
    "    plt.legend()\n",
    "    plt.show()\n",
    "    \n",
    "\n",
    "    alpha = (ibeps - mean_m) / len(graph.edges())\n",
    "    alpha_std = std_m / len(graph.edges())\n",
    "    \n",
    "    return alpha,alpha_std,ms,ibeps\n",
    "\n"
   ]
  },
  {
   "cell_type": "code",
   "execution_count": 24,
   "metadata": {},
   "outputs": [],
   "source": [
    "def beta_red(graph,ms,repes=100):\n",
    "    n_esenciales = len([x for x,data in graph.nodes(data=True) if data[\"esencial\"] ])\n",
    "    n_esenciales\n",
    "    \n",
    "    raw_m = 0\n",
    "    for n1,n2 in graph.edges():\n",
    "            if  graph.node[n1][\"esencial\"] and graph.node[n2][\"esencial\"]:\n",
    "                raw_m += 1                \n",
    "    bs = []\n",
    "    overlaps = []\n",
    "    e_por_pii   = []\n",
    "    for _ in tqdm(range(repes)):\n",
    "        G = graph.copy()\n",
    "        # Cantidad de interacciones esenciales\n",
    "        m =  random.choice(ms)\n",
    "        EPII = raw_m - m\n",
    "        # Asignar edges esenciales al azar y marcar nodos esenciales por estar en EPII\n",
    "        nodos_esenciales = []\n",
    "        for n1,n2 in random.sample(G.edges(),EPII):\n",
    "            nodos_esenciales.append(n1)\n",
    "            nodos_esenciales.append(n2)\n",
    "        nodos_esenciales = set(nodos_esenciales)\n",
    "\n",
    "        # Agregar nodos esenciales al azar hasta completar\n",
    "        faltantes = n_esenciales - len(nodos_esenciales)  \n",
    "        if faltantes < 0:\n",
    "            faltantes = 0            \n",
    "        e_por_pii.append(len(nodos_esenciales) )\n",
    "       \n",
    "        overlap = len(set(random.sample(G.nodes(), faltantes ) ) & nodos_esenciales)\n",
    "        \n",
    "        overlaps.append(overlap)\n",
    "        agregados = set(random.sample(G.nodes(), faltantes ) ) - nodos_esenciales\n",
    "        bs.append(len(agregados))\n",
    "\n",
    "    mean_b = np.mean(bs)\n",
    "    std_b = np.std(bs)\n",
    "    mean_o = np.mean(overlaps)\n",
    "    std_o = np.std(overlaps)\n",
    "    mean_pii = np.mean(e_por_pii)\n",
    "    std_pii = np.std(e_por_pii)\n",
    "    \n",
    "    #plt.hist(bs)\n",
    "    #plt.show()\n",
    "    beta = (mean_b / len(graph.nodes())  )\n",
    "    beta_std = (std_b / len(graph.nodes())  )\n",
    "    overlap = (std_b * 1.0 / len(graph.nodes()))\n",
    "    pii = (mean_pii * 1.0 / len(graph.nodes()))\n",
    "  \n",
    "    return beta,beta_std,overlap,pii\n"
   ]
  },
  {
   "cell_type": "code",
   "execution_count": 25,
   "metadata": {},
   "outputs": [],
   "source": [
    "def plot_alpha_beta(graph,alpha,beta,name):\n",
    "\n",
    "    data = []\n",
    "\n",
    "    observed = []\n",
    "    max_k = max([x[1] for x in graph.degree()])\n",
    "    for k in range(1,max_k):\n",
    "        data.append( 1 - (1 - beta) * (1 - alpha) ** k )\n",
    "        nodos_de_grado_k = [x[0] for x in graph.degree() if x[1] == k] \n",
    "        nodos_de_grado_k_esenciales = [x for x in nodos_de_grado_k if  graph.node[x][\"esencial\"]]\n",
    "\n",
    "        if nodos_de_grado_k:\n",
    "            observed.append( len(nodos_de_grado_k_esenciales) /   len(nodos_de_grado_k) )\n",
    "        else:\n",
    "            observed.append(0)\n",
    "\n",
    "    plt.plot(range(1,max_k), data )\n",
    "    plt.title(name + \" Esencialidad predicha vs observada\")\n",
    "    plt.xlabel(\"Grado\")\n",
    "    plt.ylabel(\"Probabilidad de ser una proteina esencial\")\n",
    "    plt.scatter(range(1,max_k),observed,marker=\"x\",c=\"red\")\n",
    "    plt.xlim(0,130)\n",
    "    plt.show()\n",
    "    \n",
    "    "
   ]
  },
  {
   "cell_type": "code",
   "execution_count": 26,
   "metadata": {},
   "outputs": [
    {
     "data": {
      "application/vnd.jupyter.widget-view+json": {
       "model_id": "5576b4f176ac49589d562f6e6b8f8e31",
       "version_major": 2,
       "version_minor": 0
      },
      "text/plain": [
       "HBox(children=(IntProgress(value=0), HTML(value='')))"
      ]
     },
     "metadata": {},
     "output_type": "display_data"
    },
    {
     "data": {
      "image/png": "[encoded data removed]",
      "text/plain": [
       "<Figure size 432x288 with 1 Axes>"
      ]
     },
     "metadata": {},
     "output_type": "display_data"
    },
    {
     "data": {
      "application/vnd.jupyter.widget-view+json": {
       "model_id": "419715ae9a1548cdb5eebb4f7709f3df",
       "version_major": 2,
       "version_minor": 0
      },
      "text/plain": [
       "HBox(children=(IntProgress(value=0), HTML(value='')))"
      ]
     },
     "metadata": {},
     "output_type": "display_data"
    },
    {
     "data": {
      "image/png": "[encoded data removed]",
      "text/plain": [
       "<Figure size 432x288 with 1 Axes>"
      ]
     },
     "metadata": {},
     "output_type": "display_data"
    },
    {
     "data": {
      "application/vnd.jupyter.widget-view+json": {
       "model_id": "a7add8e682fc4716be8873690403d554",
       "version_major": 2,
       "version_minor": 0
      },
      "text/plain": [
       "HBox(children=(IntProgress(value=0), HTML(value='')))"
      ]
     },
     "metadata": {},
     "output_type": "display_data"
    },
    {
     "data": {
      "image/png": "[encoded data removed]",
      "text/plain": [
       "<Figure size 432x288 with 1 Axes>"
      ]
     },
     "metadata": {},
     "output_type": "display_data"
    },
    {
     "data": {
      "application/vnd.jupyter.widget-view+json": {
       "model_id": "e0d8aaf03bb14b20919ff8ac7b3c9fb5",
       "version_major": 2,
       "version_minor": 0
      },
      "text/plain": [
       "HBox(children=(IntProgress(value=0), HTML(value='')))"
      ]
     },
     "metadata": {},
     "output_type": "display_data"
    },
    {
     "data": {
      "image/png": "[encoded data removed]",
      "text/plain": [
       "<Figure size 432x288 with 1 Axes>"
      ]
     },
     "metadata": {},
     "output_type": "display_data"
    },
    {
     "data": {
      "application/vnd.jupyter.widget-view+json": {
       "model_id": "b973ebca510f46a9b6ea45a8db3ff8fa",
       "version_major": 2,
       "version_minor": 0
      },
      "text/plain": [
       "HBox(children=(IntProgress(value=0), HTML(value='')))"
      ]
     },
     "metadata": {},
     "output_type": "display_data"
    },
    {
     "data": {
      "image/png": "[encoded data removed]",
      "text/plain": [
       "<Figure size 432x288 with 1 Axes>"
      ]
     },
     "metadata": {},
     "output_type": "display_data"
    },
    {
     "data": {
      "application/vnd.jupyter.widget-view+json": {
       "model_id": "eb79f734348b4e1cb9d04db259605f97",
       "version_major": 2,
       "version_minor": 0
      },
      "text/plain": [
       "HBox(children=(IntProgress(value=0), HTML(value='')))"
      ]
     },
     "metadata": {},
     "output_type": "display_data"
    },
    {
     "data": {
      "image/png": "[encoded data removed]",
      "text/plain": [
       "<Figure size 432x288 with 1 Axes>"
      ]
     },
     "metadata": {},
     "output_type": "display_data"
    },
    {
     "data": {
      "application/vnd.jupyter.widget-view+json": {
       "model_id": "74068c27ba1c42d5b2b431089238fd4f",
       "version_major": 2,
       "version_minor": 0
      },
      "text/plain": [
       "HBox(children=(IntProgress(value=0), HTML(value='')))"
      ]
     },
     "metadata": {},
     "output_type": "display_data"
    },
    {
     "data": {
      "image/png": "[encoded data removed]",
      "text/plain": [
       "<Figure size 432x288 with 1 Axes>"
      ]
     },
     "metadata": {},
     "output_type": "display_data"
    },
    {
     "data": {
      "application/vnd.jupyter.widget-view+json": {
       "model_id": "1bb49b3b53dd4396b9346acb93ca947c",
       "version_major": 2,
       "version_minor": 0
      },
      "text/plain": [
       "HBox(children=(IntProgress(value=0), HTML(value='')))"
      ]
     },
     "metadata": {},
     "output_type": "display_data"
    },
    {
     "data": {
      "image/png": "[encoded data removed]",
      "text/plain": [
       "<Figure size 432x288 with 1 Axes>"
      ]
     },
     "metadata": {},
     "output_type": "display_data"
    }
   ],
   "source": [
    "#Probar mas de un tamaño de nswap\n",
    "tabla = []\n",
    "for name,graph in {\"AP_MS\":AP_MS,\"Y2H\":Y2H,\"LIT\":LIT,\"LITR\":LITR}.items():\n",
    "    alpha,alpha_std,ms,ibeps = alpha_red(graph,nswap=1000,repes=100,name=name)\n",
    "    beta,beta_std,overlap,pii = beta_red(graph,ms,repes=100)\n",
    "    plot_alpha_beta(graph,alpha,beta,name=name)\n",
    "    tabla.append({\"name\":name,\"alpha\":alpha,\"beta\":beta,\"overlap\":overlap,\"pii\":pii,\n",
    "                  \"alpha_std\":alpha_std,\"beta_std\":beta_std,\"ibeps\":ibeps })\n",
    "    "
   ]
  },
  {
   "cell_type": "code",
   "execution_count": 36,
   "metadata": {},
   "outputs": [
    {
     "data": {
      "text/html": [
       "<div>\n",
       "<style>\n",
       "    .dataframe thead tr:only-child th {\n",
       "        text-align: right;\n",
       "    }\n",
       "\n",
       "    .dataframe thead th {\n",
       "        text-align: left;\n",
       "    }\n",
       "\n",
       "    .dataframe tbody tr th {\n",
       "        vertical-align: top;\n",
       "    }\n",
       "</style>\n",
       "<table border=\"1\" class=\"dataframe\">\n",
       "  <thead>\n",
       "    <tr style=\"text-align: right;\">\n",
       "      <th></th>\n",
       "      <th>name</th>\n",
       "      <th>alpha</th>\n",
       "      <th>alpha_std</th>\n",
       "      <th>beta</th>\n",
       "      <th>beta_std</th>\n",
       "      <th>ibeps</th>\n",
       "      <th>overlap</th>\n",
       "      <th>pii</th>\n",
       "    </tr>\n",
       "  </thead>\n",
       "  <tbody>\n",
       "    <tr>\n",
       "      <th>0</th>\n",
       "      <td>LIT</td>\n",
       "      <td>0.041217</td>\n",
       "      <td>0.003926</td>\n",
       "      <td>0.233874</td>\n",
       "      <td>0.233874</td>\n",
       "      <td>1053</td>\n",
       "      <td>0.014253</td>\n",
       "      <td>0.136152</td>\n",
       "    </tr>\n",
       "    <tr>\n",
       "      <th>1</th>\n",
       "      <td>AP_MS</td>\n",
       "      <td>0.018968</td>\n",
       "      <td>0.001422</td>\n",
       "      <td>0.179827</td>\n",
       "      <td>0.179827</td>\n",
       "      <td>2847</td>\n",
       "      <td>0.013523</td>\n",
       "      <td>0.160425</td>\n",
       "    </tr>\n",
       "    <tr>\n",
       "      <th>2</th>\n",
       "      <td>LITR</td>\n",
       "      <td>0.041019</td>\n",
       "      <td>0.004052</td>\n",
       "      <td>0.233945</td>\n",
       "      <td>0.233945</td>\n",
       "      <td>1053</td>\n",
       "      <td>0.013775</td>\n",
       "      <td>0.135423</td>\n",
       "    </tr>\n",
       "    <tr>\n",
       "      <th>3</th>\n",
       "      <td>Y2H</td>\n",
       "      <td>0.015051</td>\n",
       "      <td>0.002941</td>\n",
       "      <td>0.177468</td>\n",
       "      <td>0.177468</td>\n",
       "      <td>270</td>\n",
       "      <td>0.007751</td>\n",
       "      <td>0.039068</td>\n",
       "    </tr>\n",
       "  </tbody>\n",
       "</table>\n",
       "</div>"
      ],
      "text/plain": [
       "    name     alpha  alpha_std      beta  beta_std  ibeps   overlap       pii\n",
       "0    LIT  0.041217   0.003926  0.233874  0.233874   1053  0.014253  0.136152\n",
       "1  AP_MS  0.018968   0.001422  0.179827  0.179827   2847  0.013523  0.160425\n",
       "2   LITR  0.041019   0.004052  0.233945  0.233945   1053  0.013775  0.135423\n",
       "3    Y2H  0.015051   0.002941  0.177468  0.177468    270  0.007751  0.039068"
      ]
     },
     "execution_count": 36,
     "metadata": {},
     "output_type": "execute_result"
    }
   ],
   "source": [
    "pd.DataFrame(tabla)[[ \"name\", \"alpha\", \"alpha_std\",\"beta\",\"beta_std\",\"ibeps\",\"overlap\",\"pii\"]]"
   ]
  },
  {
   "cell_type": "code",
   "execution_count": 43,
   "metadata": {},
   "outputs": [
    {
     "data": {
      "text/html": [
       "<div>\n",
       "<style>\n",
       "    .dataframe thead tr:only-child th {\n",
       "        text-align: right;\n",
       "    }\n",
       "\n",
       "    .dataframe thead th {\n",
       "        text-align: left;\n",
       "    }\n",
       "\n",
       "    .dataframe tbody tr th {\n",
       "        vertical-align: top;\n",
       "    }\n",
       "</style>\n",
       "<table border=\"1\" class=\"dataframe\">\n",
       "  <thead>\n",
       "    <tr style=\"text-align: right;\">\n",
       "      <th></th>\n",
       "      <th>name</th>\n",
       "      <th>alpha</th>\n",
       "      <th>alpha_std</th>\n",
       "      <th>beta</th>\n",
       "      <th>beta_std</th>\n",
       "      <th>ibeps</th>\n",
       "      <th>overlap</th>\n",
       "      <th>pii</th>\n",
       "    </tr>\n",
       "  </thead>\n",
       "  <tbody>\n",
       "    <tr>\n",
       "      <th>0</th>\n",
       "      <td>LIT</td>\n",
       "      <td>0.041371</td>\n",
       "      <td>0.004229</td>\n",
       "      <td>0.233587</td>\n",
       "      <td>0.015800</td>\n",
       "      <td>1053</td>\n",
       "      <td>0.015800</td>\n",
       "      <td>0.136829</td>\n",
       "    </tr>\n",
       "    <tr>\n",
       "      <th>1</th>\n",
       "      <td>AP_MS</td>\n",
       "      <td>0.019049</td>\n",
       "      <td>0.001408</td>\n",
       "      <td>0.176313</td>\n",
       "      <td>0.010358</td>\n",
       "      <td>2847</td>\n",
       "      <td>0.010358</td>\n",
       "      <td>0.163527</td>\n",
       "    </tr>\n",
       "    <tr>\n",
       "      <th>2</th>\n",
       "      <td>LITR</td>\n",
       "      <td>0.041785</td>\n",
       "      <td>0.004174</td>\n",
       "      <td>0.234785</td>\n",
       "      <td>0.013443</td>\n",
       "      <td>1053</td>\n",
       "      <td>0.013443</td>\n",
       "      <td>0.135859</td>\n",
       "    </tr>\n",
       "    <tr>\n",
       "      <th>3</th>\n",
       "      <td>Y2H</td>\n",
       "      <td>0.015522</td>\n",
       "      <td>0.003307</td>\n",
       "      <td>0.176848</td>\n",
       "      <td>0.010441</td>\n",
       "      <td>270</td>\n",
       "      <td>0.010441</td>\n",
       "      <td>0.039564</td>\n",
       "    </tr>\n",
       "  </tbody>\n",
       "</table>\n",
       "</div>"
      ],
      "text/plain": [
       "    name     alpha  alpha_std      beta  beta_std  ibeps   overlap       pii\n",
       "0    LIT  0.041371   0.004229  0.233587  0.015800   1053  0.015800  0.136829\n",
       "1  AP_MS  0.019049   0.001408  0.176313  0.010358   2847  0.010358  0.163527\n",
       "2   LITR  0.041785   0.004174  0.234785  0.013443   1053  0.013443  0.135859\n",
       "3    Y2H  0.015522   0.003307  0.176848  0.010441    270  0.010441  0.039564"
      ]
     },
     "execution_count": 43,
     "metadata": {},
     "output_type": "execute_result"
    }
   ],
   "source": [
    "pd.DataFrame(tabla)[[ \"name\", \"alpha\", \"alpha_std\",\"beta\",\"beta_std\",\"ibeps\",\"overlap\",\"pii\"]]"
   ]
  }
 ],
 "metadata": {
  "kernelspec": {
   "display_name": "Python 3 (ipykernel)",
   "language": "python",
   "name": "python3"
  },
  "language_info": {
   "codemirror_mode": {
    "name": "ipython",
    "version": 3
   },
   "file_extension": ".py",
   "mimetype": "text/x-python",
   "name": "python",
   "nbconvert_exporter": "python",
   "pygments_lexer": "ipython3",
   "version": "3.10.6"
  },
  "toc": {
   "base_numbering": 1,
   "nav_menu": {},
   "number_sections": true,
   "sideBar": true,
   "skip_h1_title": false,
   "title_cell": "Table of Contents",
   "title_sidebar": "Contents",
   "toc_cell": false,
   "toc_position": {},
   "toc_section_display": true,
   "toc_window_display": false
  },
  "varInspector": {
   "cols": {
    "lenName": 16,
    "lenType": 16,
    "lenVar": 40
   },
   "kernels_config": {
    "python": {
     "delete_cmd_postfix": "",
     "delete_cmd_prefix": "del ",
     "library": "var_list.py",
     "varRefreshCmd": "print(var_dic_list())"
    },
    "r": {
     "delete_cmd_postfix": ") ",
     "delete_cmd_prefix": "rm(",
     "library": "var_list.r",
     "varRefreshCmd": "cat(var_dic_list()) "
    }
   },
   "types_to_exclude": [
    "module",
    "function",
    "builtin_function_or_method",
    "instance",
    "_Feature"
   ],
   "window_display": false
  }
 },
 "nbformat": 4,
 "nbformat_minor": 2
}
